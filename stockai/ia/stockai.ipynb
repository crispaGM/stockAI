{
 "cells": [
  {
   "cell_type": "markdown",
   "metadata": {},
   "source": [
    "# Contexto\n",
    "O stockAI foi criado para o megahack 2ª edição 2020, partindo do enunciado do desafio do SEBRAE que busca auxiliar pequenas empresas após a pandemia do COVID-19, buscamos trazer soluções para prover uma administração de estoque mais inteligente e estratégica.\n",
    "Quem nunca teve problema de estoque em sua empresa? Esqueceu de fazer pedido de alguma mercadoria ou esqueceu do prazo de validade? Visando isso nossa equipe Propôs um sitema de gerenciamento de estoque que fornecesse metricas, aprendesse padrões de vendas e reposição de estoque a fim de fornecer ao empresário um maior controle e autoconhecimento sobre o seu negócio.\n",
    "Esta aplicação corresponde ao módulo de Machine Learning desenvolvido para atuar juntamente a um sistema web. Como dito anteriormente foi idealizada para um hackathon e estará em constante evolução.\n",
    "\n",
    "# DataSet\n",
    "Os dados usados foram provenientes de uma simulação de vendas e reposição de estoque de um supermercado ficticio, todos os dados foram gerados pelos prórpios autores do código. Foi gerado cerca de um ano de transações  para cerca de 28 produtos diferentes.\n",
    "\n",
    "# Objetivos\n",
    "Dado a simulação descrita acima o nosso objetivo era prover para o sistema web notificações em relação ao estoque. Um dos principais pontos seria a predição de falta de produtos baseado no histórico de saida e entrada do mesmo.\n",
    "O segundo ponto atacado na nossa solução foi a predição de produtos que venceriam antes de ter todo o seu lote vendido, com base nas datas de fabricação e validade associadas ao histórico de vendas de um determinado produto buscamos levar ao dono do mercado uma noção de quantos produtos ele iria perder caso estocasse n lotes do mesmo.\n",
    "A gestão de estoque em supermercados de pequeno estoque tendem a ser mal planejadas e mal administradas principalmente pelo pouco uso de tecnologia, porém a pandemia em que vivemos tende a exigir uma gestão mais eficiente ainda, por isso entendemos que uma ferramenta como o stockAI pode trazer inúmeros benefícios e sanar algumas dores.\n"
   ]
  },
  {
   "cell_type": "code",
   "execution_count": 1,
   "metadata": {
    "_cell_guid": "79c7e3d0-c299-4dcb-8224-4455121ee9b0",
    "_uuid": "d629ff2d2480ee46fbb7e2d37f6b5fab8052498a"
   },
   "outputs": [],
   "source": [
    "import pandas as pd\n",
    "import numpy as np"
   ]
  },
  {
   "cell_type": "code",
   "execution_count": 2,
   "metadata": {},
   "outputs": [],
   "source": [
    "base = pd.read_json('/kaggle/input/megahack-stockai/data_stock.json')\n",
    "base_saida = pd.read_json('/kaggle/input/megahack-stockai/label_stock.json')"
   ]
  },
  {
   "cell_type": "code",
   "execution_count": 3,
   "metadata": {},
   "outputs": [
    {
     "data": {
      "text/html": [
       "<div>\n",
       "<style scoped>\n",
       "    .dataframe tbody tr th:only-of-type {\n",
       "        vertical-align: middle;\n",
       "    }\n",
       "\n",
       "    .dataframe tbody tr th {\n",
       "        vertical-align: top;\n",
       "    }\n",
       "\n",
       "    .dataframe thead th {\n",
       "        text-align: right;\n",
       "    }\n",
       "</style>\n",
       "<table border=\"1\" class=\"dataframe\">\n",
       "  <thead>\n",
       "    <tr style=\"text-align: right;\">\n",
       "      <th></th>\n",
       "      <th>name</th>\n",
       "      <th>price</th>\n",
       "      <th>sale</th>\n",
       "      <th>stock</th>\n",
       "      <th>date</th>\n",
       "      <th>date_fab</th>\n",
       "      <th>lote</th>\n",
       "      <th>date_val</th>\n",
       "      <th>qtd_day</th>\n",
       "    </tr>\n",
       "  </thead>\n",
       "  <tbody>\n",
       "    <tr>\n",
       "      <th>0</th>\n",
       "      <td>Arroz Tio Urbano 1 Kg</td>\n",
       "      <td>2.89</td>\n",
       "      <td>0</td>\n",
       "      <td>50</td>\n",
       "      <td>2020-01-01</td>\n",
       "      <td>2019-12-31</td>\n",
       "      <td>1</td>\n",
       "      <td>2020-01-15</td>\n",
       "      <td>15</td>\n",
       "    </tr>\n",
       "    <tr>\n",
       "      <th>1</th>\n",
       "      <td>Arroz Tio Urbano 1 Kg</td>\n",
       "      <td>2.89</td>\n",
       "      <td>16</td>\n",
       "      <td>34</td>\n",
       "      <td>2020-01-02</td>\n",
       "      <td>2019-12-31</td>\n",
       "      <td>1</td>\n",
       "      <td>2020-01-15</td>\n",
       "      <td>15</td>\n",
       "    </tr>\n",
       "    <tr>\n",
       "      <th>2</th>\n",
       "      <td>Arroz Tio Urbano 1 Kg</td>\n",
       "      <td>2.89</td>\n",
       "      <td>14</td>\n",
       "      <td>20</td>\n",
       "      <td>2020-01-03</td>\n",
       "      <td>2019-12-31</td>\n",
       "      <td>1</td>\n",
       "      <td>2020-01-15</td>\n",
       "      <td>15</td>\n",
       "    </tr>\n",
       "    <tr>\n",
       "      <th>3</th>\n",
       "      <td>Arroz Tio Urbano 1 Kg</td>\n",
       "      <td>2.89</td>\n",
       "      <td>2</td>\n",
       "      <td>18</td>\n",
       "      <td>2020-01-04</td>\n",
       "      <td>2019-12-31</td>\n",
       "      <td>1</td>\n",
       "      <td>2020-01-15</td>\n",
       "      <td>15</td>\n",
       "    </tr>\n",
       "    <tr>\n",
       "      <th>4</th>\n",
       "      <td>Arroz Tio Urbano 1 Kg</td>\n",
       "      <td>2.89</td>\n",
       "      <td>10</td>\n",
       "      <td>8</td>\n",
       "      <td>2020-01-05</td>\n",
       "      <td>2019-12-31</td>\n",
       "      <td>1</td>\n",
       "      <td>2020-01-15</td>\n",
       "      <td>15</td>\n",
       "    </tr>\n",
       "    <tr>\n",
       "      <th>...</th>\n",
       "      <td>...</td>\n",
       "      <td>...</td>\n",
       "      <td>...</td>\n",
       "      <td>...</td>\n",
       "      <td>...</td>\n",
       "      <td>...</td>\n",
       "      <td>...</td>\n",
       "      <td>...</td>\n",
       "      <td>...</td>\n",
       "    </tr>\n",
       "    <tr>\n",
       "      <th>1731</th>\n",
       "      <td>Camarão 500g</td>\n",
       "      <td>27.90</td>\n",
       "      <td>16</td>\n",
       "      <td>34</td>\n",
       "      <td>2020-02-29</td>\n",
       "      <td>2020-6-28</td>\n",
       "      <td>10</td>\n",
       "      <td>2020-7-18</td>\n",
       "      <td>20</td>\n",
       "    </tr>\n",
       "    <tr>\n",
       "      <th>1732</th>\n",
       "      <td>Camarão 500g</td>\n",
       "      <td>27.90</td>\n",
       "      <td>11</td>\n",
       "      <td>23</td>\n",
       "      <td>2020-03-01</td>\n",
       "      <td>2020-6-28</td>\n",
       "      <td>10</td>\n",
       "      <td>2020-7-18</td>\n",
       "      <td>20</td>\n",
       "    </tr>\n",
       "    <tr>\n",
       "      <th>1733</th>\n",
       "      <td>Camarão 500g</td>\n",
       "      <td>27.90</td>\n",
       "      <td>18</td>\n",
       "      <td>5</td>\n",
       "      <td>2020-03-02</td>\n",
       "      <td>2020-6-28</td>\n",
       "      <td>10</td>\n",
       "      <td>2020-7-18</td>\n",
       "      <td>20</td>\n",
       "    </tr>\n",
       "    <tr>\n",
       "      <th>1734</th>\n",
       "      <td>Camarão 500g</td>\n",
       "      <td>27.90</td>\n",
       "      <td>5</td>\n",
       "      <td>50</td>\n",
       "      <td>2020-03-03</td>\n",
       "      <td>2020-7-18</td>\n",
       "      <td>11</td>\n",
       "      <td>2020-8-7</td>\n",
       "      <td>20</td>\n",
       "    </tr>\n",
       "    <tr>\n",
       "      <th>1735</th>\n",
       "      <td>Camarão 500g</td>\n",
       "      <td>27.90</td>\n",
       "      <td>13</td>\n",
       "      <td>37</td>\n",
       "      <td>2020-03-04</td>\n",
       "      <td>2020-7-18</td>\n",
       "      <td>11</td>\n",
       "      <td>2020-8-7</td>\n",
       "      <td>20</td>\n",
       "    </tr>\n",
       "  </tbody>\n",
       "</table>\n",
       "<p>1736 rows × 9 columns</p>\n",
       "</div>"
      ],
      "text/plain": [
       "                       name  price  sale  stock       date    date_fab  lote  \\\n",
       "0     Arroz Tio Urbano 1 Kg   2.89     0     50 2020-01-01  2019-12-31     1   \n",
       "1     Arroz Tio Urbano 1 Kg   2.89    16     34 2020-01-02  2019-12-31     1   \n",
       "2     Arroz Tio Urbano 1 Kg   2.89    14     20 2020-01-03  2019-12-31     1   \n",
       "3     Arroz Tio Urbano 1 Kg   2.89     2     18 2020-01-04  2019-12-31     1   \n",
       "4     Arroz Tio Urbano 1 Kg   2.89    10      8 2020-01-05  2019-12-31     1   \n",
       "...                     ...    ...   ...    ...        ...         ...   ...   \n",
       "1731           Camarão 500g  27.90    16     34 2020-02-29   2020-6-28    10   \n",
       "1732           Camarão 500g  27.90    11     23 2020-03-01   2020-6-28    10   \n",
       "1733           Camarão 500g  27.90    18      5 2020-03-02   2020-6-28    10   \n",
       "1734           Camarão 500g  27.90     5     50 2020-03-03   2020-7-18    11   \n",
       "1735           Camarão 500g  27.90    13     37 2020-03-04   2020-7-18    11   \n",
       "\n",
       "        date_val  qtd_day  \n",
       "0     2020-01-15       15  \n",
       "1     2020-01-15       15  \n",
       "2     2020-01-15       15  \n",
       "3     2020-01-15       15  \n",
       "4     2020-01-15       15  \n",
       "...          ...      ...  \n",
       "1731   2020-7-18       20  \n",
       "1732   2020-7-18       20  \n",
       "1733   2020-7-18       20  \n",
       "1734    2020-8-7       20  \n",
       "1735    2020-8-7       20  \n",
       "\n",
       "[1736 rows x 9 columns]"
      ]
     },
     "execution_count": 3,
     "metadata": {},
     "output_type": "execute_result"
    }
   ],
   "source": [
    "base"
   ]
  },
  {
   "cell_type": "code",
   "execution_count": 4,
   "metadata": {},
   "outputs": [
    {
     "data": {
      "text/plain": [
       "14145"
      ]
     },
     "execution_count": 4,
     "metadata": {},
     "output_type": "execute_result"
    }
   ],
   "source": [
    "base['sale'].sum()"
   ]
  },
  {
   "cell_type": "code",
   "execution_count": 5,
   "metadata": {},
   "outputs": [
    {
     "data": {
      "text/plain": [
       "50829"
      ]
     },
     "execution_count": 5,
     "metadata": {},
     "output_type": "execute_result"
    }
   ],
   "source": [
    "base['stock'].sum()"
   ]
  },
  {
   "cell_type": "code",
   "execution_count": 6,
   "metadata": {},
   "outputs": [
    {
     "data": {
      "text/html": [
       "<div>\n",
       "<style scoped>\n",
       "    .dataframe tbody tr th:only-of-type {\n",
       "        vertical-align: middle;\n",
       "    }\n",
       "\n",
       "    .dataframe tbody tr th {\n",
       "        vertical-align: top;\n",
       "    }\n",
       "\n",
       "    .dataframe thead th {\n",
       "        text-align: right;\n",
       "    }\n",
       "</style>\n",
       "<table border=\"1\" class=\"dataframe\">\n",
       "  <thead>\n",
       "    <tr style=\"text-align: right;\">\n",
       "      <th></th>\n",
       "      <th>new_stock</th>\n",
       "      <th>stock_date_expiration</th>\n",
       "      <th>sell_loss</th>\n",
       "    </tr>\n",
       "  </thead>\n",
       "  <tbody>\n",
       "    <tr>\n",
       "      <th>0</th>\n",
       "      <td>0</td>\n",
       "      <td>0</td>\n",
       "      <td>0</td>\n",
       "    </tr>\n",
       "    <tr>\n",
       "      <th>1</th>\n",
       "      <td>0</td>\n",
       "      <td>0</td>\n",
       "      <td>0</td>\n",
       "    </tr>\n",
       "    <tr>\n",
       "      <th>2</th>\n",
       "      <td>0</td>\n",
       "      <td>0</td>\n",
       "      <td>0</td>\n",
       "    </tr>\n",
       "    <tr>\n",
       "      <th>3</th>\n",
       "      <td>0</td>\n",
       "      <td>0</td>\n",
       "      <td>0</td>\n",
       "    </tr>\n",
       "    <tr>\n",
       "      <th>4</th>\n",
       "      <td>0</td>\n",
       "      <td>0</td>\n",
       "      <td>0</td>\n",
       "    </tr>\n",
       "    <tr>\n",
       "      <th>...</th>\n",
       "      <td>...</td>\n",
       "      <td>...</td>\n",
       "      <td>...</td>\n",
       "    </tr>\n",
       "    <tr>\n",
       "      <th>1731</th>\n",
       "      <td>0</td>\n",
       "      <td>0</td>\n",
       "      <td>0</td>\n",
       "    </tr>\n",
       "    <tr>\n",
       "      <th>1732</th>\n",
       "      <td>0</td>\n",
       "      <td>0</td>\n",
       "      <td>0</td>\n",
       "    </tr>\n",
       "    <tr>\n",
       "      <th>1733</th>\n",
       "      <td>0</td>\n",
       "      <td>0</td>\n",
       "      <td>0</td>\n",
       "    </tr>\n",
       "    <tr>\n",
       "      <th>1734</th>\n",
       "      <td>1</td>\n",
       "      <td>0</td>\n",
       "      <td>2</td>\n",
       "    </tr>\n",
       "    <tr>\n",
       "      <th>1735</th>\n",
       "      <td>0</td>\n",
       "      <td>0</td>\n",
       "      <td>0</td>\n",
       "    </tr>\n",
       "  </tbody>\n",
       "</table>\n",
       "<p>1736 rows × 3 columns</p>\n",
       "</div>"
      ],
      "text/plain": [
       "      new_stock  stock_date_expiration  sell_loss\n",
       "0             0                      0          0\n",
       "1             0                      0          0\n",
       "2             0                      0          0\n",
       "3             0                      0          0\n",
       "4             0                      0          0\n",
       "...         ...                    ...        ...\n",
       "1731          0                      0          0\n",
       "1732          0                      0          0\n",
       "1733          0                      0          0\n",
       "1734          1                      0          2\n",
       "1735          0                      0          0\n",
       "\n",
       "[1736 rows x 3 columns]"
      ]
     },
     "execution_count": 6,
     "metadata": {},
     "output_type": "execute_result"
    }
   ],
   "source": [
    "base_saida"
   ]
  },
  {
   "cell_type": "code",
   "execution_count": 7,
   "metadata": {},
   "outputs": [],
   "source": [
    "previsores= base.iloc[:,0:9].values\n",
    "classe_1 = base_saida.iloc[:,0].values\n",
    "classe_2 = base_saida.iloc[:,1].values\n",
    "classe_3 = base_saida.iloc[:,2].values"
   ]
  },
  {
   "cell_type": "code",
   "execution_count": 8,
   "metadata": {},
   "outputs": [],
   "source": [
    "import calendar\n",
    "import datetime  \n",
    "import matplotlib.pyplot as pl\n",
    "from datetime import datetime as dt"
   ]
  },
  {
   "cell_type": "code",
   "execution_count": 9,
   "metadata": {},
   "outputs": [],
   "source": [
    "analisando_vendas_camarao=base.loc[base.name=='Camarão 500g',['name','date','sale']]\n"
   ]
  },
  {
   "cell_type": "code",
   "execution_count": 10,
   "metadata": {},
   "outputs": [
    {
     "data": {
      "text/html": [
       "<div>\n",
       "<style scoped>\n",
       "    .dataframe tbody tr th:only-of-type {\n",
       "        vertical-align: middle;\n",
       "    }\n",
       "\n",
       "    .dataframe tbody tr th {\n",
       "        vertical-align: top;\n",
       "    }\n",
       "\n",
       "    .dataframe thead th {\n",
       "        text-align: right;\n",
       "    }\n",
       "</style>\n",
       "<table border=\"1\" class=\"dataframe\">\n",
       "  <thead>\n",
       "    <tr style=\"text-align: right;\">\n",
       "      <th></th>\n",
       "      <th>name</th>\n",
       "      <th>date</th>\n",
       "      <th>sale</th>\n",
       "    </tr>\n",
       "  </thead>\n",
       "  <tbody>\n",
       "    <tr>\n",
       "      <th>1674</th>\n",
       "      <td>Camarão 500g</td>\n",
       "      <td>2020-01-01</td>\n",
       "      <td>0</td>\n",
       "    </tr>\n",
       "    <tr>\n",
       "      <th>1675</th>\n",
       "      <td>Camarão 500g</td>\n",
       "      <td>2020-01-02</td>\n",
       "      <td>9</td>\n",
       "    </tr>\n",
       "    <tr>\n",
       "      <th>1676</th>\n",
       "      <td>Camarão 500g</td>\n",
       "      <td>2020-01-03</td>\n",
       "      <td>6</td>\n",
       "    </tr>\n",
       "    <tr>\n",
       "      <th>1677</th>\n",
       "      <td>Camarão 500g</td>\n",
       "      <td>2020-01-04</td>\n",
       "      <td>17</td>\n",
       "    </tr>\n",
       "    <tr>\n",
       "      <th>1678</th>\n",
       "      <td>Camarão 500g</td>\n",
       "      <td>2020-01-05</td>\n",
       "      <td>9</td>\n",
       "    </tr>\n",
       "    <tr>\n",
       "      <th>...</th>\n",
       "      <td>...</td>\n",
       "      <td>...</td>\n",
       "      <td>...</td>\n",
       "    </tr>\n",
       "    <tr>\n",
       "      <th>1731</th>\n",
       "      <td>Camarão 500g</td>\n",
       "      <td>2020-02-29</td>\n",
       "      <td>16</td>\n",
       "    </tr>\n",
       "    <tr>\n",
       "      <th>1732</th>\n",
       "      <td>Camarão 500g</td>\n",
       "      <td>2020-03-01</td>\n",
       "      <td>11</td>\n",
       "    </tr>\n",
       "    <tr>\n",
       "      <th>1733</th>\n",
       "      <td>Camarão 500g</td>\n",
       "      <td>2020-03-02</td>\n",
       "      <td>18</td>\n",
       "    </tr>\n",
       "    <tr>\n",
       "      <th>1734</th>\n",
       "      <td>Camarão 500g</td>\n",
       "      <td>2020-03-03</td>\n",
       "      <td>5</td>\n",
       "    </tr>\n",
       "    <tr>\n",
       "      <th>1735</th>\n",
       "      <td>Camarão 500g</td>\n",
       "      <td>2020-03-04</td>\n",
       "      <td>13</td>\n",
       "    </tr>\n",
       "  </tbody>\n",
       "</table>\n",
       "<p>62 rows × 3 columns</p>\n",
       "</div>"
      ],
      "text/plain": [
       "              name       date  sale\n",
       "1674  Camarão 500g 2020-01-01     0\n",
       "1675  Camarão 500g 2020-01-02     9\n",
       "1676  Camarão 500g 2020-01-03     6\n",
       "1677  Camarão 500g 2020-01-04    17\n",
       "1678  Camarão 500g 2020-01-05     9\n",
       "...            ...        ...   ...\n",
       "1731  Camarão 500g 2020-02-29    16\n",
       "1732  Camarão 500g 2020-03-01    11\n",
       "1733  Camarão 500g 2020-03-02    18\n",
       "1734  Camarão 500g 2020-03-03     5\n",
       "1735  Camarão 500g 2020-03-04    13\n",
       "\n",
       "[62 rows x 3 columns]"
      ]
     },
     "execution_count": 10,
     "metadata": {},
     "output_type": "execute_result"
    }
   ],
   "source": [
    "analisando_vendas_camarao"
   ]
  },
  {
   "cell_type": "code",
   "execution_count": 11,
   "metadata": {},
   "outputs": [
    {
     "data": {
      "image/png": "[encoded data removed]",
      "text/plain": [
       "<Figure size 432x288 with 1 Axes>"
      ]
     },
     "metadata": {
      "needs_background": "light"
     },
     "output_type": "display_data"
    }
   ],
   "source": [
    "pl.title('Quantidade de vendas do Camarão')\n",
    "pl.xlabel('Data')\n",
    "pl.ylabel('Quantidade de vendas')\n",
    "pl.ylim(0, 20)\n",
    "pl.plot(analisando_vendas_camarao['date'],analisando_vendas_camarao['sale'])\n",
    "pl.show()\n",
    "\n"
   ]
  },
  {
   "cell_type": "code",
   "execution_count": 12,
   "metadata": {},
   "outputs": [],
   "source": [
    "analisando_estoque_camarao=base.loc[base.name=='Camarão 500g',['name','date','stock']]"
   ]
  },
  {
   "cell_type": "code",
   "execution_count": 13,
   "metadata": {},
   "outputs": [
    {
     "data": {
      "image/png": "[encoded data removed]",
      "text/plain": [
       "<Figure size 432x288 with 1 Axes>"
      ]
     },
     "metadata": {
      "needs_background": "light"
     },
     "output_type": "display_data"
    }
   ],
   "source": [
    "pl.title('Quantidade de itens em estoque de Camarão')\n",
    "pl.xlabel('Data')\n",
    "pl.ylabel('Quantidade de itens em estoque')\n",
    "pl.ylim(0, 50)\n",
    "pl.plot(analisando_estoque_camarao['date'],analisando_estoque_camarao['stock'])\n",
    "pl.show()"
   ]
  },
  {
   "cell_type": "code",
   "execution_count": 14,
   "metadata": {},
   "outputs": [],
   "source": [
    "analisando_vendas_camarao2=base\n",
    "analisando_vendas_camarao2['date']=base['date'].dt.month_name()"
   ]
  },
  {
   "cell_type": "code",
   "execution_count": 15,
   "metadata": {},
   "outputs": [],
   "source": [
    "analisando_vendas_camarao2=base.loc[base.name=='Camarão 500g',['name','date','sale']]"
   ]
  },
  {
   "cell_type": "code",
   "execution_count": 16,
   "metadata": {},
   "outputs": [
    {
     "data": {
      "text/plain": [
       "1674     January\n",
       "1675     January\n",
       "1676     January\n",
       "1677     January\n",
       "1678     January\n",
       "          ...   \n",
       "1731    February\n",
       "1732       March\n",
       "1733       March\n",
       "1734       March\n",
       "1735       March\n",
       "Name: date, Length: 62, dtype: object"
      ]
     },
     "execution_count": 16,
     "metadata": {},
     "output_type": "execute_result"
    }
   ],
   "source": [
    "analisando_vendas_camarao2.date"
   ]
  },
  {
   "cell_type": "code",
   "execution_count": 17,
   "metadata": {},
   "outputs": [],
   "source": [
    "y_pos=np.arange(len(analisando_vendas_camarao2))"
   ]
  },
  {
   "cell_type": "code",
   "execution_count": 18,
   "metadata": {},
   "outputs": [],
   "source": [
    "analisando_vendas_camarao_j=analisando_vendas_camarao2.loc[analisando_vendas_camarao2.date=='January',['date','sale']]\n",
    "analisando_vendas_camarao_f=analisando_vendas_camarao2.loc[analisando_vendas_camarao2.date=='February',['date','sale']]\n",
    "analisando_vendas_camarao_m=analisando_vendas_camarao2.loc[analisando_vendas_camarao2.date=='March',['date','sale']]\n"
   ]
  },
  {
   "cell_type": "code",
   "execution_count": 19,
   "metadata": {},
   "outputs": [
    {
     "data": {
      "text/plain": [
       "266"
      ]
     },
     "execution_count": 19,
     "metadata": {},
     "output_type": "execute_result"
    }
   ],
   "source": [
    "analisando_vendas_camarao_f['sale'].sum()"
   ]
  },
  {
   "cell_type": "code",
   "execution_count": 20,
   "metadata": {},
   "outputs": [],
   "source": [
    "sales_c=[]\n",
    "sales_c.append(analisando_vendas_camarao_j['sale'].sum())\n",
    "sales_c.append(analisando_vendas_camarao_f['sale'].sum())\n",
    "sales_c.append(analisando_vendas_camarao_m['sale'].sum())\n",
    "mes=['Janeiro','Fevereiro', 'Março']\n",
    "y_pos=np.arange(len(mes))"
   ]
  },
  {
   "cell_type": "code",
   "execution_count": 21,
   "metadata": {},
   "outputs": [
    {
     "data": {
      "image/png": "[encoded data removed]",
      "text/plain": [
       "<Figure size 432x288 with 1 Axes>"
      ]
     },
     "metadata": {
      "needs_background": "light"
     },
     "output_type": "display_data"
    }
   ],
   "source": [
    "pl.bar(y_pos,  sales_c,align='center', alpha=0.5)\n",
    "pl.xticks(y_pos, mes)\n",
    "pl.ylabel('Quantidade de vendas')\n",
    "pl.title('Quantidade de Vendas por mês do Camarão')\n",
    "pl.show()"
   ]
  },
  {
   "cell_type": "markdown",
   "metadata": {},
   "source": [
    "1. new_stock: Quando um stock é preciso ser renovado(se não for o cliente irá perder dinheiro) 0= quando não precisa e 1= quando foi renovado\n",
    "2. stock_date_expiration: Quando existe algum produto que está vencido no stock (0=não tem protuo vencido e 1=quando tem)\n",
    "3. sell_loss: Quantidade de perdas no estoque"
   ]
  },
  {
   "cell_type": "code",
   "execution_count": 22,
   "metadata": {},
   "outputs": [
    {
     "data": {
      "text/plain": [
       "array([0, 0, 0, ..., 0, 1, 0])"
      ]
     },
     "execution_count": 22,
     "metadata": {},
     "output_type": "execute_result"
    }
   ],
   "source": [
    "classe_1"
   ]
  },
  {
   "cell_type": "code",
   "execution_count": 23,
   "metadata": {},
   "outputs": [
    {
     "data": {
      "text/plain": [
       "array([0, 0, 0, ..., 0, 2, 0])"
      ]
     },
     "execution_count": 23,
     "metadata": {},
     "output_type": "execute_result"
    }
   ],
   "source": [
    "classe_3"
   ]
  },
  {
   "cell_type": "code",
   "execution_count": 24,
   "metadata": {},
   "outputs": [
    {
     "data": {
      "text/plain": [
       "array([0, 0, 0, ..., 0, 0, 0])"
      ]
     },
     "execution_count": 24,
     "metadata": {},
     "output_type": "execute_result"
    }
   ],
   "source": [
    "classe_2"
   ]
  },
  {
   "cell_type": "code",
   "execution_count": 25,
   "metadata": {},
   "outputs": [],
   "source": [
    "from sklearn.preprocessing import LabelEncoder,OneHotEncoder"
   ]
  },
  {
   "cell_type": "code",
   "execution_count": 26,
   "metadata": {},
   "outputs": [],
   "source": [
    "label_previsores=LabelEncoder()"
   ]
  },
  {
   "cell_type": "code",
   "execution_count": 27,
   "metadata": {},
   "outputs": [],
   "source": [
    "previsores[:,0]=label_previsores.fit_transform(previsores[:,0])\n",
    "previsores[:,4]=label_previsores.fit_transform(previsores[:,4])\n",
    "previsores[:,5]=label_previsores.fit_transform(previsores[:,5])\n",
    "previsores[:,7]=label_previsores.fit_transform(previsores[:,7])"
   ]
  },
  {
   "cell_type": "code",
   "execution_count": 28,
   "metadata": {},
   "outputs": [
    {
     "data": {
      "text/plain": [
       "array([[1, 2.89, 0, ..., 1, 2, 15],\n",
       "       [1, 2.89, 16, ..., 1, 2, 15],\n",
       "       [1, 2.89, 14, ..., 1, 2, 15],\n",
       "       ...,\n",
       "       [6, 27.9, 18, ..., 10, 95, 20],\n",
       "       [6, 27.9, 5, ..., 11, 105, 20],\n",
       "       [6, 27.9, 13, ..., 11, 105, 20]], dtype=object)"
      ]
     },
     "execution_count": 28,
     "metadata": {},
     "output_type": "execute_result"
    }
   ],
   "source": [
    "previsores"
   ]
  },
  {
   "cell_type": "code",
   "execution_count": 29,
   "metadata": {},
   "outputs": [
    {
     "data": {
      "text/plain": [
       "(1736, 9)"
      ]
     },
     "execution_count": 29,
     "metadata": {},
     "output_type": "execute_result"
    }
   ],
   "source": [
    "previsores.shape"
   ]
  },
  {
   "cell_type": "code",
   "execution_count": 30,
   "metadata": {},
   "outputs": [],
   "source": [
    "from sklearn.preprocessing import StandardScaler\n",
    "escalona = StandardScaler()"
   ]
  },
  {
   "cell_type": "code",
   "execution_count": 31,
   "metadata": {},
   "outputs": [],
   "source": [
    "previsores=escalona.fit_transform(previsores)"
   ]
  },
  {
   "cell_type": "code",
   "execution_count": 32,
   "metadata": {},
   "outputs": [],
   "source": [
    "from sklearn.model_selection import train_test_split\n",
    "from sklearn.ensemble import RandomForestClassifier\n",
    "from sklearn.metrics import confusion_matrix,accuracy_score"
   ]
  },
  {
   "cell_type": "code",
   "execution_count": 33,
   "metadata": {},
   "outputs": [],
   "source": [
    "def random_forest_1(previsores,classe_1):\n",
    "    previsores_treinamento1 , previsores_teste1,classe_treinamento1, classe_teste1=train_test_split(previsores,classe_1,test_size=0.25, random_state=0)\n",
    "    classificador_random_florest1=RandomForestClassifier(n_estimators=40,criterion='entropy',random_state=0)\n",
    "    classificador_random_florest1.fit(previsores_treinamento1,classe_treinamento1)\n",
    "    previsao_1=classificador_random_florest1.predict(previsores_teste1)\n",
    "    precisao_label1=accuracy_score(classe_teste1,previsao_1)\n",
    "    matriz=confusion_matrix(classe_teste1,previsao_1)\n",
    "    return precisao_label1, matriz"
   ]
  },
  {
   "cell_type": "code",
   "execution_count": 34,
   "metadata": {},
   "outputs": [],
   "source": [
    "precisao,matriz=random_forest_1(previsores,classe_1)"
   ]
  },
  {
   "cell_type": "code",
   "execution_count": 35,
   "metadata": {},
   "outputs": [
    {
     "data": {
      "text/plain": [
       "0.9861751152073732"
      ]
     },
     "execution_count": 35,
     "metadata": {},
     "output_type": "execute_result"
    }
   ],
   "source": [
    "precisao"
   ]
  },
  {
   "cell_type": "code",
   "execution_count": 36,
   "metadata": {},
   "outputs": [
    {
     "data": {
      "text/plain": [
       "array([[356,   3],\n",
       "       [  3,  72]])"
      ]
     },
     "execution_count": 36,
     "metadata": {},
     "output_type": "execute_result"
    }
   ],
   "source": [
    "matriz"
   ]
  },
  {
   "cell_type": "code",
   "execution_count": 37,
   "metadata": {},
   "outputs": [],
   "source": [
    "precisao2,matriz2=random_forest_1(previsores,classe_2)\n",
    "precisao3,matriz3=random_forest_1(previsores,classe_3)"
   ]
  },
  {
   "cell_type": "code",
   "execution_count": 38,
   "metadata": {},
   "outputs": [
    {
     "data": {
      "text/plain": [
       "(array([[434]]),\n",
       " array([[370,   0,   0,   0,   0,   0,   0,   0,   0,   0,   0,   0,   0,\n",
       "           0,   0,   0,   0],\n",
       "        [  0,   4,   0,   1,   0,   2,   0,   0,   0,   0,   0,   1,   0,\n",
       "           0,   0,   0,   0],\n",
       "        [  0,   0,   2,   0,   3,   1,   1,   0,   1,   0,   0,   0,   0,\n",
       "           0,   0,   0,   0],\n",
       "        [  2,   0,   0,   1,   1,   2,   1,   0,   1,   0,   1,   0,   0,\n",
       "           0,   1,   0,   0],\n",
       "        [  0,   1,   1,   0,   1,   0,   0,   0,   2,   1,   0,   0,   2,\n",
       "           0,   0,   0,   0],\n",
       "        [  0,   0,   0,   1,   1,   0,   0,   0,   2,   0,   0,   0,   0,\n",
       "           0,   0,   0,   0],\n",
       "        [  1,   0,   0,   1,   0,   1,   0,   0,   1,   0,   0,   0,   0,\n",
       "           0,   0,   0,   0],\n",
       "        [  0,   1,   1,   0,   0,   0,   0,   0,   0,   0,   0,   0,   1,\n",
       "           0,   0,   0,   0],\n",
       "        [  0,   1,   0,   0,   0,   2,   0,   0,   0,   0,   0,   0,   1,\n",
       "           0,   0,   0,   0],\n",
       "        [  0,   0,   1,   0,   0,   1,   0,   0,   0,   0,   0,   0,   0,\n",
       "           0,   0,   0,   0],\n",
       "        [  0,   1,   0,   0,   0,   0,   0,   0,   0,   1,   0,   0,   0,\n",
       "           0,   0,   0,   0],\n",
       "        [  0,   0,   0,   0,   0,   0,   0,   0,   0,   0,   0,   0,   0,\n",
       "           0,   0,   0,   0],\n",
       "        [  0,   0,   1,   0,   0,   0,   0,   0,   0,   0,   0,   0,   0,\n",
       "           0,   0,   0,   0],\n",
       "        [  1,   0,   0,   0,   0,   0,   0,   0,   2,   1,   0,   0,   0,\n",
       "           0,   0,   0,   0],\n",
       "        [  0,   1,   0,   0,   0,   1,   0,   0,   0,   0,   0,   0,   0,\n",
       "           0,   0,   0,   0],\n",
       "        [  0,   0,   0,   0,   0,   0,   0,   0,   1,   0,   0,   0,   0,\n",
       "           1,   0,   0,   0],\n",
       "        [  0,   0,   0,   0,   0,   0,   0,   0,   0,   1,   0,   0,   0,\n",
       "           0,   0,   1,   0]]))"
      ]
     },
     "execution_count": 38,
     "metadata": {},
     "output_type": "execute_result"
    }
   ],
   "source": [
    "matriz2,matriz3"
   ]
  },
  {
   "cell_type": "code",
   "execution_count": 39,
   "metadata": {},
   "outputs": [],
   "source": [
    "array=[]"
   ]
  },
  {
   "cell_type": "code",
   "execution_count": 40,
   "metadata": {},
   "outputs": [],
   "source": [
    "array.append({'precisão':precisao, 'label': \"new_stock\", \"model\":\"random_florest\"})\n",
    "array.append({'precisão':precisao2, 'label': \"stock_date_expiration\", \"model\":\"random_florest\"})\n",
    "array.append({'precisão':precisao3, 'label': \"sell_loss\", \"model\":\"random_florest\"})"
   ]
  },
  {
   "cell_type": "code",
   "execution_count": 41,
   "metadata": {},
   "outputs": [
    {
     "data": {
      "text/plain": [
       "[{'precisão': 0.9861751152073732,\n",
       "  'label': 'new_stock',\n",
       "  'model': 'random_florest'},\n",
       " {'precisão': 1.0,\n",
       "  'label': 'stock_date_expiration',\n",
       "  'model': 'random_florest'},\n",
       " {'precisão': 0.8709677419354839,\n",
       "  'label': 'sell_loss',\n",
       "  'model': 'random_florest'}]"
      ]
     },
     "execution_count": 41,
     "metadata": {},
     "output_type": "execute_result"
    }
   ],
   "source": [
    "array"
   ]
  },
  {
   "cell_type": "markdown",
   "metadata": {},
   "source": [
    "**** Arvore de decisão"
   ]
  },
  {
   "cell_type": "code",
   "execution_count": 42,
   "metadata": {},
   "outputs": [],
   "source": [
    "from sklearn.tree import DecisionTreeClassifier"
   ]
  },
  {
   "cell_type": "code",
   "execution_count": 43,
   "metadata": {},
   "outputs": [],
   "source": [
    "def tree_decision_1(previsores, classe_1):\n",
    "    previsores_treinamento1 , previsores_teste1,classe_treinamento1, classe_teste1=train_test_split(previsores,classe_1,test_size=0.25, random_state=0)\n",
    "    classificador1=DecisionTreeClassifier(criterion='entropy',random_state=0)\n",
    "    classificador1.fit(previsores_treinamento1,classe_treinamento1)\n",
    "    previsoes1=classificador1.predict(previsores_teste1)\n",
    "    precisao1=accuracy_score(classe_teste1,previsoes1)\n",
    "    matriz1=confusion_matrix(classe_teste1,previsoes1)\n",
    "    return precisao1, matriz1"
   ]
  },
  {
   "cell_type": "code",
   "execution_count": 44,
   "metadata": {},
   "outputs": [],
   "source": [
    "precisao1,matriz1=tree_decision_1(previsores,classe_1)\n",
    "precisao2,matriz2=tree_decision_1(previsores,classe_2)\n",
    "precisao3,matriz3=tree_decision_1(previsores,classe_3)"
   ]
  },
  {
   "cell_type": "code",
   "execution_count": 45,
   "metadata": {},
   "outputs": [],
   "source": [
    "array.append({'precisão':precisao1, 'label': \"new_stock\", \"model\":\"tree_decision\"})\n",
    "array.append({'precisão':precisao2, 'label': \"stock_date_expiration\", \"model\":\"tree_decision\"})\n",
    "array.append({'precisão':precisao3, 'label': \"sell_loss\", \"model\":\"tree_decision\"})"
   ]
  },
  {
   "cell_type": "code",
   "execution_count": 46,
   "metadata": {},
   "outputs": [
    {
     "data": {
      "text/plain": [
       "[{'precisão': 0.9861751152073732,\n",
       "  'label': 'new_stock',\n",
       "  'model': 'random_florest'},\n",
       " {'precisão': 1.0,\n",
       "  'label': 'stock_date_expiration',\n",
       "  'model': 'random_florest'},\n",
       " {'precisão': 0.8709677419354839,\n",
       "  'label': 'sell_loss',\n",
       "  'model': 'random_florest'},\n",
       " {'precisão': 0.9861751152073732,\n",
       "  'label': 'new_stock',\n",
       "  'model': 'tree_decision'},\n",
       " {'precisão': 1.0, 'label': 'stock_date_expiration', 'model': 'tree_decision'},\n",
       " {'precisão': 0.8617511520737328,\n",
       "  'label': 'sell_loss',\n",
       "  'model': 'tree_decision'}]"
      ]
     },
     "execution_count": 46,
     "metadata": {},
     "output_type": "execute_result"
    }
   ],
   "source": [
    "array"
   ]
  },
  {
   "cell_type": "markdown",
   "metadata": {},
   "source": [
    "**** Rede neural"
   ]
  },
  {
   "cell_type": "code",
   "execution_count": 47,
   "metadata": {},
   "outputs": [
    {
     "name": "stderr",
     "output_type": "stream",
     "text": [
      "Using TensorFlow backend.\n"
     ]
    }
   ],
   "source": [
    "import keras\n",
    "from keras.models import Sequential\n",
    "from keras.layers import Dense, Activation"
   ]
  },
  {
   "cell_type": "code",
   "execution_count": 48,
   "metadata": {},
   "outputs": [],
   "source": [
    "onehotencoder= OneHotEncoder(categories='auto', drop=None, sparse=True, dtype='float64', handle_unknown='error')\n",
    "previsores = onehotencoder.fit_transform(previsores).toarray()"
   ]
  },
  {
   "cell_type": "code",
   "execution_count": 49,
   "metadata": {},
   "outputs": [],
   "source": [
    "def neural_network(previsores, classe_1):\n",
    "    previsores_treinamento1, previsores_teste1,classe_treinamento1, classe_teste1=train_test_split(previsores,classe_1,test_size=0.25, random_state=0)\n",
    "    classificador=Sequential()\n",
    "    classificador.add(Dense(units=55,activation='relu',input_dim=420))\n",
    "    classificador.add(Dense(units=55,activation='relu'))\n",
    "    classificador.add(Dense(units=1,activation='sigmoid'))#camada binária retorna sigmode\n",
    "    classificador.compile(optimizer='adam',loss='binary_crossentropy',metrics=['accuracy'])\n",
    "    classificador.fit(previsores_treinamento1,classe_treinamento1,batch_size=10,epochs=100)\n",
    "    previsoes1=classificador.predict(previsores_teste1)\n",
    "    previsoes1=(previsoes1>0.5)\n",
    "    precisao1=accuracy_score(classe_teste1,previsoes1)\n",
    "    matriz1=confusion_matrix(classe_teste1,previsoes1)\n",
    "    return precisao1, matriz1;"
   ]
  },
  {
   "cell_type": "code",
   "execution_count": 50,
   "metadata": {},
   "outputs": [
    {
     "name": "stdout",
     "output_type": "stream",
     "text": [
      "Epoch 1/100\n",
      "1302/1302 [==============================] - 1s 422us/step - loss: 0.3869 - accuracy: 0.8341\n",
      "Epoch 2/100\n",
      "1302/1302 [==============================] - 0s 147us/step - loss: 0.0991 - accuracy: 0.9731\n",
      "Epoch 3/100\n",
      "1302/1302 [==============================] - 0s 148us/step - loss: 0.0313 - accuracy: 0.9885\n",
      "Epoch 4/100\n",
      "1302/1302 [==============================] - 0s 150us/step - loss: 0.0129 - accuracy: 0.9977\n",
      "Epoch 5/100\n",
      "1302/1302 [==============================] - 0s 146us/step - loss: 0.0055 - accuracy: 0.9992\n",
      "Epoch 6/100\n",
      "1302/1302 [==============================] - 0s 146us/step - loss: 0.0029 - accuracy: 1.0000\n",
      "Epoch 7/100\n",
      "1302/1302 [==============================] - 0s 147us/step - loss: 0.0020 - accuracy: 1.0000\n",
      "Epoch 8/100\n",
      "1302/1302 [==============================] - 0s 147us/step - loss: 0.0012 - accuracy: 1.0000\n",
      "Epoch 9/100\n",
      "1302/1302 [==============================] - 0s 151us/step - loss: 8.2135e-04 - accuracy: 1.0000\n",
      "Epoch 10/100\n",
      "1302/1302 [==============================] - 0s 146us/step - loss: 6.4030e-04 - accuracy: 1.0000\n",
      "Epoch 11/100\n",
      "1302/1302 [==============================] - 0s 154us/step - loss: 4.9204e-04 - accuracy: 1.0000\n",
      "Epoch 12/100\n",
      "1302/1302 [==============================] - 0s 148us/step - loss: 3.9578e-04 - accuracy: 1.0000\n",
      "Epoch 13/100\n",
      "1302/1302 [==============================] - 0s 149us/step - loss: 3.2048e-04 - accuracy: 1.0000\n",
      "Epoch 14/100\n",
      "1302/1302 [==============================] - 0s 148us/step - loss: 2.5630e-04 - accuracy: 1.0000\n",
      "Epoch 15/100\n",
      "1302/1302 [==============================] - 0s 150us/step - loss: 2.1221e-04 - accuracy: 1.0000\n",
      "Epoch 16/100\n",
      "1302/1302 [==============================] - 0s 146us/step - loss: 1.8370e-04 - accuracy: 1.0000\n",
      "Epoch 17/100\n",
      "1302/1302 [==============================] - 0s 151us/step - loss: 1.5415e-04 - accuracy: 1.0000\n",
      "Epoch 18/100\n",
      "1302/1302 [==============================] - 0s 153us/step - loss: 1.3287e-04 - accuracy: 1.0000\n",
      "Epoch 19/100\n",
      "1302/1302 [==============================] - 0s 147us/step - loss: 1.1387e-04 - accuracy: 1.0000\n",
      "Epoch 20/100\n",
      "1302/1302 [==============================] - 0s 153us/step - loss: 1.0172e-04 - accuracy: 1.0000\n",
      "Epoch 21/100\n",
      "1302/1302 [==============================] - 0s 150us/step - loss: 8.8884e-05 - accuracy: 1.0000\n",
      "Epoch 22/100\n",
      "1302/1302 [==============================] - 0s 150us/step - loss: 7.7595e-05 - accuracy: 1.0000\n",
      "Epoch 23/100\n",
      "1302/1302 [==============================] - 0s 148us/step - loss: 6.8619e-05 - accuracy: 1.0000\n",
      "Epoch 24/100\n",
      "1302/1302 [==============================] - 0s 149us/step - loss: 6.0759e-05 - accuracy: 1.0000\n",
      "Epoch 25/100\n",
      "1302/1302 [==============================] - 0s 149us/step - loss: 5.4039e-05 - accuracy: 1.0000\n",
      "Epoch 26/100\n",
      "1302/1302 [==============================] - 0s 149us/step - loss: 4.8776e-05 - accuracy: 1.0000\n",
      "Epoch 27/100\n",
      "1302/1302 [==============================] - 0s 150us/step - loss: 4.3714e-05 - accuracy: 1.0000\n",
      "Epoch 28/100\n",
      "1302/1302 [==============================] - 0s 148us/step - loss: 3.9027e-05 - accuracy: 1.0000\n",
      "Epoch 29/100\n",
      "1302/1302 [==============================] - 0s 146us/step - loss: 3.4951e-05 - accuracy: 1.0000\n",
      "Epoch 30/100\n",
      "1302/1302 [==============================] - 0s 162us/step - loss: 3.1694e-05 - accuracy: 1.0000\n",
      "Epoch 31/100\n",
      "1302/1302 [==============================] - 0s 158us/step - loss: 2.8261e-05 - accuracy: 1.0000\n",
      "Epoch 32/100\n",
      "1302/1302 [==============================] - 0s 164us/step - loss: 2.6039e-05 - accuracy: 1.0000\n",
      "Epoch 33/100\n",
      "1302/1302 [==============================] - 0s 162us/step - loss: 2.3469e-05 - accuracy: 1.0000\n",
      "Epoch 34/100\n",
      "1302/1302 [==============================] - 0s 147us/step - loss: 2.1237e-05 - accuracy: 1.0000\n",
      "Epoch 35/100\n",
      "1302/1302 [==============================] - 0s 147us/step - loss: 1.9149e-05 - accuracy: 1.0000\n",
      "Epoch 36/100\n",
      "1302/1302 [==============================] - 0s 149us/step - loss: 1.7577e-05 - accuracy: 1.0000\n",
      "Epoch 37/100\n",
      "1302/1302 [==============================] - 0s 153us/step - loss: 1.5924e-05 - accuracy: 1.0000\n",
      "Epoch 38/100\n",
      "1302/1302 [==============================] - 0s 158us/step - loss: 1.4576e-05 - accuracy: 1.0000\n",
      "Epoch 39/100\n",
      "1302/1302 [==============================] - 0s 155us/step - loss: 1.3494e-05 - accuracy: 1.0000\n",
      "Epoch 40/100\n",
      "1302/1302 [==============================] - 0s 165us/step - loss: 1.2179e-05 - accuracy: 1.0000\n",
      "Epoch 41/100\n",
      "1302/1302 [==============================] - 0s 148us/step - loss: 1.1096e-05 - accuracy: 1.0000\n",
      "Epoch 42/100\n",
      "1302/1302 [==============================] - 0s 151us/step - loss: 1.0209e-05 - accuracy: 1.0000\n",
      "Epoch 43/100\n",
      "1302/1302 [==============================] - 0s 156us/step - loss: 9.2491e-06 - accuracy: 1.0000\n",
      "Epoch 44/100\n",
      "1302/1302 [==============================] - 0s 147us/step - loss: 8.5825e-06 - accuracy: 1.0000\n",
      "Epoch 45/100\n",
      "1302/1302 [==============================] - 0s 146us/step - loss: 7.8297e-06 - accuracy: 1.0000\n",
      "Epoch 46/100\n",
      "1302/1302 [==============================] - 0s 148us/step - loss: 7.1623e-06 - accuracy: 1.0000\n",
      "Epoch 47/100\n",
      "1302/1302 [==============================] - 0s 148us/step - loss: 6.6990e-06 - accuracy: 1.0000\n",
      "Epoch 48/100\n",
      "1302/1302 [==============================] - 0s 153us/step - loss: 6.0696e-06 - accuracy: 1.0000\n",
      "Epoch 49/100\n",
      "1302/1302 [==============================] - 0s 153us/step - loss: 5.5730e-06 - accuracy: 1.0000\n",
      "Epoch 50/100\n",
      "1302/1302 [==============================] - 0s 150us/step - loss: 5.1500e-06 - accuracy: 1.0000\n",
      "Epoch 51/100\n",
      "1302/1302 [==============================] - 0s 155us/step - loss: 4.7603e-06 - accuracy: 1.0000\n",
      "Epoch 52/100\n",
      "1302/1302 [==============================] - 0s 152us/step - loss: 4.3639e-06 - accuracy: 1.0000\n",
      "Epoch 53/100\n",
      "1302/1302 [==============================] - 0s 150us/step - loss: 3.9965e-06 - accuracy: 1.0000\n",
      "Epoch 54/100\n",
      "1302/1302 [==============================] - 0s 152us/step - loss: 3.7162e-06 - accuracy: 1.0000\n",
      "Epoch 55/100\n",
      "1302/1302 [==============================] - 0s 150us/step - loss: 3.4525e-06 - accuracy: 1.0000\n",
      "Epoch 56/100\n",
      "1302/1302 [==============================] - 0s 151us/step - loss: 3.1523e-06 - accuracy: 1.0000\n",
      "Epoch 57/100\n",
      "1302/1302 [==============================] - 0s 150us/step - loss: 2.9086e-06 - accuracy: 1.0000\n",
      "Epoch 58/100\n",
      "1302/1302 [==============================] - 0s 148us/step - loss: 2.6725e-06 - accuracy: 1.0000\n",
      "Epoch 59/100\n",
      "1302/1302 [==============================] - 0s 148us/step - loss: 2.4712e-06 - accuracy: 1.0000\n",
      "Epoch 60/100\n",
      "1302/1302 [==============================] - 0s 147us/step - loss: 2.2749e-06 - accuracy: 1.0000\n",
      "Epoch 61/100\n",
      "1302/1302 [==============================] - 0s 151us/step - loss: 2.0991e-06 - accuracy: 1.0000\n",
      "Epoch 62/100\n",
      "1302/1302 [==============================] - 0s 149us/step - loss: 1.9323e-06 - accuracy: 1.0000\n",
      "Epoch 63/100\n",
      "1302/1302 [==============================] - 0s 149us/step - loss: 1.8002e-06 - accuracy: 1.0000\n",
      "Epoch 64/100\n",
      "1302/1302 [==============================] - 0s 148us/step - loss: 1.6774e-06 - accuracy: 1.0000\n",
      "Epoch 65/100\n",
      "1302/1302 [==============================] - 0s 156us/step - loss: 1.5275e-06 - accuracy: 1.0000\n",
      "Epoch 66/100\n",
      "1302/1302 [==============================] - 0s 157us/step - loss: 1.4057e-06 - accuracy: 1.0000\n",
      "Epoch 67/100\n",
      "1302/1302 [==============================] - 0s 154us/step - loss: 1.3090e-06 - accuracy: 1.0000\n",
      "Epoch 68/100\n",
      "1302/1302 [==============================] - 0s 152us/step - loss: 1.2185e-06 - accuracy: 1.0000\n",
      "Epoch 69/100\n",
      "1302/1302 [==============================] - 0s 156us/step - loss: 1.1174e-06 - accuracy: 1.0000\n",
      "Epoch 70/100\n",
      "1302/1302 [==============================] - 0s 151us/step - loss: 1.0462e-06 - accuracy: 1.0000\n",
      "Epoch 71/100\n",
      "1302/1302 [==============================] - 0s 149us/step - loss: 9.5986e-07 - accuracy: 1.0000\n",
      "Epoch 72/100\n",
      "1302/1302 [==============================] - 0s 149us/step - loss: 8.9178e-07 - accuracy: 1.0000\n",
      "Epoch 73/100\n",
      "1302/1302 [==============================] - 0s 148us/step - loss: 8.3153e-07 - accuracy: 1.0000\n",
      "Epoch 74/100\n",
      "1302/1302 [==============================] - 0s 147us/step - loss: 7.6923e-07 - accuracy: 1.0000\n",
      "Epoch 75/100\n",
      "1302/1302 [==============================] - 0s 147us/step - loss: 6.9866e-07 - accuracy: 1.0000\n",
      "Epoch 76/100\n",
      "1302/1302 [==============================] - 0s 147us/step - loss: 6.4768e-07 - accuracy: 1.0000\n",
      "Epoch 77/100\n",
      "1302/1302 [==============================] - 0s 149us/step - loss: 5.9999e-07 - accuracy: 1.0000\n",
      "Epoch 78/100\n",
      "1302/1302 [==============================] - 0s 151us/step - loss: 5.5886e-07 - accuracy: 1.0000\n",
      "Epoch 79/100\n",
      "1302/1302 [==============================] - 0s 149us/step - loss: 5.1446e-07 - accuracy: 1.0000\n",
      "Epoch 80/100\n",
      "1302/1302 [==============================] - 0s 149us/step - loss: 4.8021e-07 - accuracy: 1.0000\n",
      "Epoch 81/100\n",
      "1302/1302 [==============================] - 0s 154us/step - loss: 4.4232e-07 - accuracy: 1.0000\n",
      "Epoch 82/100\n",
      "1302/1302 [==============================] - 0s 151us/step - loss: 4.1118e-07 - accuracy: 1.0000\n",
      "Epoch 83/100\n",
      "1302/1302 [==============================] - 0s 155us/step - loss: 3.8249e-07 - accuracy: 1.0000\n",
      "Epoch 84/100\n",
      "1302/1302 [==============================] - 0s 151us/step - loss: 3.5509e-07 - accuracy: 1.0000\n",
      "Epoch 85/100\n",
      "1302/1302 [==============================] - 0s 149us/step - loss: 3.2805e-07 - accuracy: 1.0000\n",
      "Epoch 86/100\n",
      "1302/1302 [==============================] - 0s 147us/step - loss: 3.0466e-07 - accuracy: 1.0000\n",
      "Epoch 87/100\n",
      "1302/1302 [==============================] - 0s 148us/step - loss: 2.8169e-07 - accuracy: 1.0000\n",
      "Epoch 88/100\n",
      "1302/1302 [==============================] - 0s 149us/step - loss: 2.6325e-07 - accuracy: 1.0000\n",
      "Epoch 89/100\n",
      "1302/1302 [==============================] - 0s 148us/step - loss: 2.4445e-07 - accuracy: 1.0000\n",
      "Epoch 90/100\n",
      "1302/1302 [==============================] - 0s 147us/step - loss: 2.2584e-07 - accuracy: 1.0000\n",
      "Epoch 91/100\n",
      "1302/1302 [==============================] - 0s 148us/step - loss: 2.1102e-07 - accuracy: 1.0000\n",
      "Epoch 92/100\n",
      "1302/1302 [==============================] - 0s 149us/step - loss: 1.9518e-07 - accuracy: 1.0000\n",
      "Epoch 93/100\n",
      "1302/1302 [==============================] - 0s 155us/step - loss: 1.8238e-07 - accuracy: 1.0000\n",
      "Epoch 94/100\n",
      "1302/1302 [==============================] - 0s 162us/step - loss: 1.6949e-07 - accuracy: 1.0000\n",
      "Epoch 95/100\n",
      "1302/1302 [==============================] - 0s 153us/step - loss: 1.5649e-07 - accuracy: 1.0000\n",
      "Epoch 96/100\n",
      "1302/1302 [==============================] - 0s 162us/step - loss: 1.4663e-07 - accuracy: 1.0000\n",
      "Epoch 97/100\n",
      "1302/1302 [==============================] - 0s 150us/step - loss: 1.3541e-07 - accuracy: 1.0000\n",
      "Epoch 98/100\n",
      "1302/1302 [==============================] - 0s 181us/step - loss: 1.2595e-07 - accuracy: 1.0000\n",
      "Epoch 99/100\n",
      "1302/1302 [==============================] - 0s 161us/step - loss: 1.1795e-07 - accuracy: 1.0000\n",
      "Epoch 100/100\n",
      "1302/1302 [==============================] - 0s 158us/step - loss: 1.0939e-07 - accuracy: 1.0000\n",
      "Epoch 1/100\n",
      "1302/1302 [==============================] - 0s 262us/step - loss: 0.1248 - accuracy: 0.9923\n",
      "Epoch 2/100\n",
      "1302/1302 [==============================] - 0s 147us/step - loss: 9.7633e-04 - accuracy: 1.0000\n",
      "Epoch 3/100\n",
      "1302/1302 [==============================] - 0s 147us/step - loss: 3.3662e-04 - accuracy: 1.0000\n",
      "Epoch 4/100\n",
      "1302/1302 [==============================] - 0s 153us/step - loss: 1.7040e-04 - accuracy: 1.0000\n",
      "Epoch 5/100\n",
      "1302/1302 [==============================] - 0s 150us/step - loss: 1.0251e-04 - accuracy: 1.0000\n",
      "Epoch 6/100\n",
      "1302/1302 [==============================] - 0s 147us/step - loss: 6.8176e-05 - accuracy: 1.0000\n",
      "Epoch 7/100\n",
      "1302/1302 [==============================] - 0s 148us/step - loss: 4.8497e-05 - accuracy: 1.0000\n",
      "Epoch 8/100\n",
      "1302/1302 [==============================] - 0s 148us/step - loss: 3.6132e-05 - accuracy: 1.0000\n",
      "Epoch 9/100\n",
      "1302/1302 [==============================] - 0s 149us/step - loss: 2.7800e-05 - accuracy: 1.0000\n",
      "Epoch 10/100\n",
      "1302/1302 [==============================] - 0s 150us/step - loss: 2.1977e-05 - accuracy: 1.0000\n",
      "Epoch 11/100\n",
      "1302/1302 [==============================] - 0s 155us/step - loss: 1.7750e-05 - accuracy: 1.0000\n",
      "Epoch 12/100\n",
      "1302/1302 [==============================] - 0s 147us/step - loss: 1.4588e-05 - accuracy: 1.0000\n",
      "Epoch 13/100\n",
      "1302/1302 [==============================] - 0s 149us/step - loss: 1.2150e-05 - accuracy: 1.0000\n",
      "Epoch 14/100\n",
      "1302/1302 [==============================] - 0s 151us/step - loss: 1.0234e-05 - accuracy: 1.0000\n",
      "Epoch 15/100\n",
      "1302/1302 [==============================] - 0s 152us/step - loss: 8.7098e-06 - accuracy: 1.0000\n",
      "Epoch 16/100\n",
      "1302/1302 [==============================] - 0s 164us/step - loss: 7.4816e-06 - accuracy: 1.0000\n",
      "Epoch 17/100\n",
      "1302/1302 [==============================] - 0s 160us/step - loss: 6.4752e-06 - accuracy: 1.0000\n",
      "Epoch 18/100\n",
      "1302/1302 [==============================] - 0s 145us/step - loss: 5.6422e-06 - accuracy: 1.0000\n",
      "Epoch 19/100\n",
      "1302/1302 [==============================] - 0s 148us/step - loss: 4.9437e-06 - accuracy: 1.0000\n",
      "Epoch 20/100\n",
      "1302/1302 [==============================] - 0s 145us/step - loss: 4.3501e-06 - accuracy: 1.0000\n",
      "Epoch 21/100\n",
      "1302/1302 [==============================] - 0s 155us/step - loss: 3.8488e-06 - accuracy: 1.0000\n",
      "Epoch 22/100\n",
      "1302/1302 [==============================] - 0s 148us/step - loss: 3.4169e-06 - accuracy: 1.0000\n",
      "Epoch 23/100\n",
      "1302/1302 [==============================] - 0s 147us/step - loss: 3.0458e-06 - accuracy: 1.0000\n",
      "Epoch 24/100\n",
      "1302/1302 [==============================] - 0s 149us/step - loss: 2.7251e-06 - accuracy: 1.0000\n",
      "Epoch 25/100\n",
      "1302/1302 [==============================] - 0s 153us/step - loss: 2.4454e-06 - accuracy: 1.0000\n",
      "Epoch 26/100\n",
      "1302/1302 [==============================] - 0s 154us/step - loss: 2.2003e-06 - accuracy: 1.0000\n",
      "Epoch 27/100\n",
      "1302/1302 [==============================] - 0s 150us/step - loss: 1.9834e-06 - accuracy: 1.0000\n",
      "Epoch 28/100\n",
      "1302/1302 [==============================] - 0s 155us/step - loss: 1.7914e-06 - accuracy: 1.0000\n",
      "Epoch 29/100\n",
      "1302/1302 [==============================] - 0s 149us/step - loss: 1.6224e-06 - accuracy: 1.0000\n",
      "Epoch 30/100\n",
      "1302/1302 [==============================] - 0s 147us/step - loss: 1.4717e-06 - accuracy: 1.0000\n",
      "Epoch 31/100\n",
      "1302/1302 [==============================] - 0s 153us/step - loss: 1.3373e-06 - accuracy: 1.0000\n",
      "Epoch 32/100\n",
      "1302/1302 [==============================] - 0s 146us/step - loss: 1.2171e-06 - accuracy: 1.0000\n",
      "Epoch 33/100\n",
      "1302/1302 [==============================] - 0s 147us/step - loss: 1.1092e-06 - accuracy: 1.0000\n",
      "Epoch 34/100\n",
      "1302/1302 [==============================] - 0s 153us/step - loss: 1.0120e-06 - accuracy: 1.0000\n",
      "Epoch 35/100\n",
      "1302/1302 [==============================] - 0s 148us/step - loss: 9.2474e-07 - accuracy: 1.0000\n",
      "Epoch 36/100\n",
      "1302/1302 [==============================] - 0s 149us/step - loss: 8.4599e-07 - accuracy: 1.0000\n",
      "Epoch 37/100\n",
      "1302/1302 [==============================] - 0s 149us/step - loss: 7.7432e-07 - accuracy: 1.0000\n",
      "Epoch 38/100\n",
      "1302/1302 [==============================] - 0s 147us/step - loss: 7.0951e-07 - accuracy: 1.0000\n",
      "Epoch 39/100\n",
      "1302/1302 [==============================] - 0s 147us/step - loss: 6.5108e-07 - accuracy: 1.0000\n",
      "Epoch 40/100\n",
      "1302/1302 [==============================] - 0s 151us/step - loss: 5.9782e-07 - accuracy: 1.0000\n",
      "Epoch 41/100\n",
      "1302/1302 [==============================] - 0s 159us/step - loss: 5.4952e-07 - accuracy: 1.0000\n",
      "Epoch 42/100\n",
      "1302/1302 [==============================] - 0s 157us/step - loss: 5.0537e-07 - accuracy: 1.0000\n",
      "Epoch 43/100\n",
      "1302/1302 [==============================] - 0s 149us/step - loss: 4.6518e-07 - accuracy: 1.0000\n",
      "Epoch 44/100\n",
      "1302/1302 [==============================] - 0s 149us/step - loss: 4.2838e-07 - accuracy: 1.0000\n",
      "Epoch 45/100\n",
      "1302/1302 [==============================] - 0s 147us/step - loss: 3.9473e-07 - accuracy: 1.0000\n",
      "Epoch 46/100\n",
      "1302/1302 [==============================] - 0s 149us/step - loss: 3.6407e-07 - accuracy: 1.0000\n",
      "Epoch 47/100\n",
      "1302/1302 [==============================] - 0s 151us/step - loss: 3.3585e-07 - accuracy: 1.0000\n",
      "Epoch 48/100\n",
      "1302/1302 [==============================] - 0s 171us/step - loss: 3.1001e-07 - accuracy: 1.0000\n",
      "Epoch 49/100\n",
      "1302/1302 [==============================] - 0s 149us/step - loss: 2.8632e-07 - accuracy: 1.0000\n",
      "Epoch 50/100\n",
      "1302/1302 [==============================] - 0s 146us/step - loss: 2.6457e-07 - accuracy: 1.0000\n",
      "Epoch 51/100\n",
      "1302/1302 [==============================] - 0s 148us/step - loss: 2.4452e-07 - accuracy: 1.0000\n",
      "Epoch 52/100\n",
      "1302/1302 [==============================] - 0s 150us/step - loss: 2.2615e-07 - accuracy: 1.0000\n",
      "Epoch 53/100\n",
      "1302/1302 [==============================] - 0s 147us/step - loss: 2.0915e-07 - accuracy: 1.0000\n",
      "Epoch 54/100\n",
      "1302/1302 [==============================] - 0s 147us/step - loss: 1.9356e-07 - accuracy: 1.0000\n",
      "Epoch 55/100\n",
      "1302/1302 [==============================] - 0s 147us/step - loss: 1.7914e-07 - accuracy: 1.0000\n",
      "Epoch 56/100\n",
      "1302/1302 [==============================] - 0s 147us/step - loss: 1.6591e-07 - accuracy: 1.0000\n",
      "Epoch 57/100\n",
      "1302/1302 [==============================] - 0s 147us/step - loss: 1.5369e-07 - accuracy: 1.0000\n",
      "Epoch 58/100\n",
      "1302/1302 [==============================] - 0s 147us/step - loss: 1.4240e-07 - accuracy: 1.0000\n",
      "Epoch 59/100\n",
      "1302/1302 [==============================] - 0s 147us/step - loss: 1.3195e-07 - accuracy: 1.0000\n",
      "Epoch 60/100\n",
      "1302/1302 [==============================] - 0s 149us/step - loss: 1.2235e-07 - accuracy: 1.0000\n",
      "Epoch 61/100\n",
      "1302/1302 [==============================] - 0s 146us/step - loss: 1.1349e-07 - accuracy: 1.0000\n",
      "Epoch 62/100\n",
      "1302/1302 [==============================] - 0s 146us/step - loss: 1.0528e-07 - accuracy: 1.0000\n",
      "Epoch 63/100\n",
      "1302/1302 [==============================] - 0s 145us/step - loss: 9.7691e-08 - accuracy: 1.0000\n",
      "Epoch 64/100\n",
      "1302/1302 [==============================] - 0s 145us/step - loss: 9.0665e-08 - accuracy: 1.0000\n",
      "Epoch 65/100\n",
      "1302/1302 [==============================] - 0s 149us/step - loss: 8.4127e-08 - accuracy: 1.0000\n",
      "Epoch 66/100\n",
      "1302/1302 [==============================] - 0s 153us/step - loss: 7.8120e-08 - accuracy: 1.0000\n",
      "Epoch 67/100\n",
      "1302/1302 [==============================] - 0s 157us/step - loss: 7.2567e-08 - accuracy: 1.0000\n",
      "Epoch 68/100\n",
      "1302/1302 [==============================] - 0s 162us/step - loss: 6.7403e-08 - accuracy: 1.0000\n",
      "Epoch 69/100\n",
      "1302/1302 [==============================] - 0s 151us/step - loss: 6.2623e-08 - accuracy: 1.0000\n",
      "Epoch 70/100\n",
      "1302/1302 [==============================] - 0s 150us/step - loss: 5.8208e-08 - accuracy: 1.0000\n",
      "Epoch 71/100\n",
      "1302/1302 [==============================] - 0s 151us/step - loss: 5.4096e-08 - accuracy: 1.0000\n",
      "Epoch 72/100\n",
      "1302/1302 [==============================] - 0s 151us/step - loss: 5.0297e-08 - accuracy: 1.0000\n",
      "Epoch 73/100\n",
      "1302/1302 [==============================] - 0s 149us/step - loss: 4.6780e-08 - accuracy: 1.0000\n",
      "Epoch 74/100\n",
      "1302/1302 [==============================] - 0s 147us/step - loss: 4.3506e-08 - accuracy: 1.0000\n",
      "Epoch 75/100\n",
      "1302/1302 [==============================] - 0s 154us/step - loss: 4.0477e-08 - accuracy: 1.0000\n",
      "Epoch 76/100\n",
      "1302/1302 [==============================] - 0s 149us/step - loss: 3.7666e-08 - accuracy: 1.0000\n",
      "Epoch 77/100\n",
      "1302/1302 [==============================] - 0s 144us/step - loss: 3.5056e-08 - accuracy: 1.0000\n",
      "Epoch 78/100\n",
      "1302/1302 [==============================] - 0s 146us/step - loss: 3.2626e-08 - accuracy: 1.0000\n",
      "Epoch 79/100\n",
      "1302/1302 [==============================] - 0s 147us/step - loss: 3.0376e-08 - accuracy: 1.0000\n",
      "Epoch 80/100\n",
      "1302/1302 [==============================] - 0s 151us/step - loss: 2.8276e-08 - accuracy: 1.0000\n",
      "Epoch 81/100\n",
      "1302/1302 [==============================] - 0s 154us/step - loss: 2.6333e-08 - accuracy: 1.0000\n",
      "Epoch 82/100\n",
      "1302/1302 [==============================] - 0s 147us/step - loss: 2.4535e-08 - accuracy: 1.0000\n",
      "Epoch 83/100\n",
      "1302/1302 [==============================] - 0s 154us/step - loss: 2.2857e-08 - accuracy: 1.0000\n",
      "Epoch 84/100\n",
      "1302/1302 [==============================] - 0s 149us/step - loss: 2.1304e-08 - accuracy: 1.0000\n",
      "Epoch 85/100\n",
      "1302/1302 [==============================] - 0s 149us/step - loss: 1.9864e-08 - accuracy: 1.0000\n",
      "Epoch 86/100\n",
      "1302/1302 [==============================] - 0s 147us/step - loss: 1.8521e-08 - accuracy: 1.0000\n",
      "Epoch 87/100\n",
      "1302/1302 [==============================] - 0s 148us/step - loss: 1.7268e-08 - accuracy: 1.0000\n",
      "Epoch 88/100\n",
      "1302/1302 [==============================] - 0s 153us/step - loss: 1.6108e-08 - accuracy: 1.0000\n",
      "Epoch 89/100\n",
      "1302/1302 [==============================] - 0s 151us/step - loss: 1.5027e-08 - accuracy: 1.0000\n",
      "Epoch 90/100\n",
      "1302/1302 [==============================] - 0s 149us/step - loss: 1.4024e-08 - accuracy: 1.0000\n",
      "Epoch 91/100\n",
      "1302/1302 [==============================] - 0s 148us/step - loss: 1.3082e-08 - accuracy: 1.0000\n",
      "Epoch 92/100\n",
      "1302/1302 [==============================] - 0s 147us/step - loss: 1.2214e-08 - accuracy: 1.0000\n",
      "Epoch 93/100\n",
      "1302/1302 [==============================] - 0s 147us/step - loss: 1.1406e-08 - accuracy: 1.0000\n",
      "Epoch 94/100\n",
      "1302/1302 [==============================] - 0s 146us/step - loss: 1.0655e-08 - accuracy: 1.0000\n",
      "Epoch 95/100\n",
      "1302/1302 [==============================] - 0s 150us/step - loss: 9.9547e-09 - accuracy: 1.0000\n",
      "Epoch 96/100\n",
      "1302/1302 [==============================] - 0s 169us/step - loss: 9.3003e-09 - accuracy: 1.0000\n",
      "Epoch 97/100\n",
      "1302/1302 [==============================] - 0s 149us/step - loss: 8.6916e-09 - accuracy: 1.0000\n",
      "Epoch 98/100\n",
      "1302/1302 [==============================] - 0s 164us/step - loss: 8.1246e-09 - accuracy: 1.0000\n",
      "Epoch 99/100\n",
      "1302/1302 [==============================] - 0s 150us/step - loss: 7.5958e-09 - accuracy: 1.0000\n",
      "Epoch 100/100\n",
      "1302/1302 [==============================] - 0s 152us/step - loss: 7.1065e-09 - accuracy: 1.0000\n",
      "Epoch 1/100\n",
      "1302/1302 [==============================] - 0s 293us/step - loss: 0.1700 - accuracy: 0.2381\n",
      "Epoch 2/100\n",
      "1302/1302 [==============================] - 0s 154us/step - loss: -11.8917 - accuracy: 0.4785\n",
      "Epoch 3/100\n",
      "1302/1302 [==============================] - 0s 151us/step - loss: -89.2682 - accuracy: 0.5246\n",
      "Epoch 4/100\n",
      "1302/1302 [==============================] - 0s 150us/step - loss: -304.5582 - accuracy: 0.4923\n",
      "Epoch 5/100\n",
      "1302/1302 [==============================] - 0s 150us/step - loss: -715.3791 - accuracy: 0.5469\n",
      "Epoch 6/100\n",
      "1302/1302 [==============================] - 0s 154us/step - loss: -1429.8178 - accuracy: 0.5353\n",
      "Epoch 7/100\n",
      "1302/1302 [==============================] - 0s 152us/step - loss: -2513.5486 - accuracy: 0.5253\n",
      "Epoch 8/100\n",
      "1302/1302 [==============================] - 0s 152us/step - loss: -3984.7846 - accuracy: 0.5292\n",
      "Epoch 9/100\n",
      "1302/1302 [==============================] - 0s 155us/step - loss: -5889.7825 - accuracy: 0.5015\n",
      "Epoch 10/100\n",
      "1302/1302 [==============================] - 0s 149us/step - loss: -8266.9020 - accuracy: 0.5276\n",
      "Epoch 11/100\n",
      "1302/1302 [==============================] - 0s 153us/step - loss: -11146.8369 - accuracy: 0.5307\n",
      "Epoch 12/100\n",
      "1302/1302 [==============================] - 0s 152us/step - loss: -14667.5441 - accuracy: 0.5000\n",
      "Epoch 13/100\n",
      "1302/1302 [==============================] - 0s 149us/step - loss: -18704.5672 - accuracy: 0.5338\n",
      "Epoch 14/100\n",
      "1302/1302 [==============================] - 0s 150us/step - loss: -23346.4604 - accuracy: 0.4962\n",
      "Epoch 15/100\n",
      "1302/1302 [==============================] - 0s 161us/step - loss: -28606.0869 - accuracy: 0.5115\n",
      "Epoch 16/100\n",
      "1302/1302 [==============================] - 0s 156us/step - loss: -34352.5648 - accuracy: 0.5046\n",
      "Epoch 17/100\n",
      "1302/1302 [==============================] - 0s 150us/step - loss: -40775.7543 - accuracy: 0.5246\n",
      "Epoch 18/100\n",
      "1302/1302 [==============================] - 0s 149us/step - loss: -47929.2370 - accuracy: 0.5054\n",
      "Epoch 19/100\n",
      "1302/1302 [==============================] - 0s 148us/step - loss: -55673.2968 - accuracy: 0.4992\n",
      "Epoch 20/100\n",
      "1302/1302 [==============================] - 0s 150us/step - loss: -64144.8960 - accuracy: 0.5307\n",
      "Epoch 21/100\n",
      "1302/1302 [==============================] - 0s 157us/step - loss: -73184.9654 - accuracy: 0.5123\n",
      "Epoch 22/100\n",
      "1302/1302 [==============================] - 0s 150us/step - loss: -82868.6942 - accuracy: 0.4923\n",
      "Epoch 23/100\n",
      "1302/1302 [==============================] - 0s 153us/step - loss: -93239.8325 - accuracy: 0.5215\n",
      "Epoch 24/100\n",
      "1302/1302 [==============================] - 0s 152us/step - loss: -104557.8760 - accuracy: 0.5169\n",
      "Epoch 25/100\n",
      "1302/1302 [==============================] - 0s 154us/step - loss: -116536.8874 - accuracy: 0.5023\n",
      "Epoch 26/100\n",
      "1302/1302 [==============================] - 0s 150us/step - loss: -128815.1387 - accuracy: 0.5146\n",
      "Epoch 27/100\n",
      "1302/1302 [==============================] - 0s 151us/step - loss: -141652.0614 - accuracy: 0.4985\n",
      "Epoch 28/100\n",
      "1302/1302 [==============================] - 0s 148us/step - loss: -155470.5894 - accuracy: 0.5131\n",
      "Epoch 29/100\n",
      "1302/1302 [==============================] - 0s 149us/step - loss: -169889.3747 - accuracy: 0.5200\n",
      "Epoch 30/100\n",
      "1302/1302 [==============================] - 0s 151us/step - loss: -185217.7987 - accuracy: 0.5123\n",
      "Epoch 31/100\n",
      "1302/1302 [==============================] - 0s 154us/step - loss: -201311.7227 - accuracy: 0.5108\n",
      "Epoch 32/100\n",
      "1302/1302 [==============================] - 0s 151us/step - loss: -218242.4466 - accuracy: 0.5138\n",
      "Epoch 33/100\n",
      "1302/1302 [==============================] - 0s 151us/step - loss: -236118.5509 - accuracy: 0.5015\n",
      "Epoch 34/100\n",
      "1302/1302 [==============================] - 0s 149us/step - loss: -254879.1334 - accuracy: 0.5238\n",
      "Epoch 35/100\n",
      "1302/1302 [==============================] - 0s 147us/step - loss: -274404.2391 - accuracy: 0.5061\n",
      "Epoch 36/100\n",
      "1302/1302 [==============================] - 0s 152us/step - loss: -294830.8116 - accuracy: 0.4939\n",
      "Epoch 37/100\n",
      "1302/1302 [==============================] - 0s 153us/step - loss: -316137.9905 - accuracy: 0.5207\n",
      "Epoch 38/100\n",
      "1302/1302 [==============================] - 0s 149us/step - loss: -338519.3850 - accuracy: 0.5123\n",
      "Epoch 39/100\n",
      "1302/1302 [==============================] - 0s 149us/step - loss: -362002.2063 - accuracy: 0.5038\n",
      "Epoch 40/100\n",
      "1302/1302 [==============================] - 0s 148us/step - loss: -385969.4405 - accuracy: 0.5123\n",
      "Epoch 41/100\n",
      "1302/1302 [==============================] - 0s 149us/step - loss: -410899.6845 - accuracy: 0.5115\n",
      "Epoch 42/100\n",
      "1302/1302 [==============================] - 0s 148us/step - loss: -436425.5056 - accuracy: 0.4877\n",
      "Epoch 43/100\n",
      "1302/1302 [==============================] - 0s 149us/step - loss: -463212.3138 - accuracy: 0.5223\n",
      "Epoch 44/100\n",
      "1302/1302 [==============================] - 0s 151us/step - loss: -490895.5502 - accuracy: 0.5061\n",
      "Epoch 45/100\n",
      "1302/1302 [==============================] - 0s 149us/step - loss: -520251.4924 - accuracy: 0.4977\n",
      "Epoch 46/100\n",
      "1302/1302 [==============================] - 0s 151us/step - loss: -547883.3853 - accuracy: 0.5177\n",
      "Epoch 47/100\n",
      "1302/1302 [==============================] - 0s 150us/step - loss: -576711.2317 - accuracy: 0.5108\n",
      "Epoch 48/100\n",
      "1302/1302 [==============================] - 0s 153us/step - loss: -606650.2393 - accuracy: 0.5200\n",
      "Epoch 49/100\n",
      "1302/1302 [==============================] - 0s 154us/step - loss: -637453.2455 - accuracy: 0.5115\n",
      "Epoch 50/100\n",
      "1302/1302 [==============================] - 0s 148us/step - loss: -668992.5759 - accuracy: 0.5177\n",
      "Epoch 51/100\n",
      "1302/1302 [==============================] - 0s 147us/step - loss: -701763.2526 - accuracy: 0.5207\n",
      "Epoch 52/100\n",
      "1302/1302 [==============================] - 0s 148us/step - loss: -735316.1090 - accuracy: 0.5138\n",
      "Epoch 53/100\n",
      "1302/1302 [==============================] - 0s 147us/step - loss: -770317.0686 - accuracy: 0.5253\n",
      "Epoch 54/100\n",
      "1302/1302 [==============================] - 0s 150us/step - loss: -806321.7443 - accuracy: 0.5192\n",
      "Epoch 55/100\n",
      "1302/1302 [==============================] - 0s 147us/step - loss: -843537.1463 - accuracy: 0.5108\n",
      "Epoch 56/100\n",
      "1302/1302 [==============================] - 0s 164us/step - loss: -881846.3891 - accuracy: 0.5169\n",
      "Epoch 57/100\n",
      "1302/1302 [==============================] - 0s 150us/step - loss: -920642.6187 - accuracy: 0.5108\n",
      "Epoch 58/100\n",
      "1302/1302 [==============================] - 0s 150us/step - loss: -961687.1868 - accuracy: 0.5092\n",
      "Epoch 59/100\n",
      "1302/1302 [==============================] - 0s 145us/step - loss: -1002686.6505 - accuracy: 0.5054\n",
      "Epoch 60/100\n",
      "1302/1302 [==============================] - 0s 146us/step - loss: -1045254.4843 - accuracy: 0.5131\n",
      "Epoch 61/100\n",
      "1302/1302 [==============================] - 0s 146us/step - loss: -1089883.1035 - accuracy: 0.5230\n",
      "Epoch 62/100\n",
      "1302/1302 [==============================] - 0s 151us/step - loss: -1134446.9907 - accuracy: 0.5192\n",
      "Epoch 63/100\n",
      "1302/1302 [==============================] - 0s 151us/step - loss: -1180481.2872 - accuracy: 0.5046\n",
      "Epoch 64/100\n",
      "1302/1302 [==============================] - 0s 155us/step - loss: -1228543.4236 - accuracy: 0.4969\n",
      "Epoch 65/100\n",
      "1302/1302 [==============================] - 0s 149us/step - loss: -1276402.3654 - accuracy: 0.5046\n",
      "Epoch 66/100\n",
      "1302/1302 [==============================] - 0s 149us/step - loss: -1325323.6751 - accuracy: 0.5131\n",
      "Epoch 67/100\n",
      "1302/1302 [==============================] - 0s 148us/step - loss: -1375227.5200 - accuracy: 0.5184\n",
      "Epoch 68/100\n",
      "1302/1302 [==============================] - 0s 152us/step - loss: -1428928.3775 - accuracy: 0.5031\n",
      "Epoch 69/100\n",
      "1302/1302 [==============================] - 0s 153us/step - loss: -1481740.8075 - accuracy: 0.5177\n",
      "Epoch 70/100\n",
      "1302/1302 [==============================] - 0s 147us/step - loss: -1535492.4200 - accuracy: 0.4908\n",
      "Epoch 71/100\n",
      "1302/1302 [==============================] - 0s 157us/step - loss: -1589234.7941 - accuracy: 0.5223\n",
      "Epoch 72/100\n",
      "1302/1302 [==============================] - 0s 165us/step - loss: -1643866.7117 - accuracy: 0.5253\n",
      "Epoch 73/100\n",
      "1302/1302 [==============================] - 0s 149us/step - loss: -1700067.3625 - accuracy: 0.5069\n",
      "Epoch 74/100\n",
      "1302/1302 [==============================] - 0s 157us/step - loss: -1758070.6160 - accuracy: 0.5108\n",
      "Epoch 75/100\n",
      "1302/1302 [==============================] - 0s 151us/step - loss: -1816299.1932 - accuracy: 0.5031\n",
      "Epoch 76/100\n",
      "1302/1302 [==============================] - 0s 154us/step - loss: -1875934.3770 - accuracy: 0.5131\n",
      "Epoch 77/100\n",
      "1302/1302 [==============================] - 0s 191us/step - loss: -1937244.1552 - accuracy: 0.5223\n",
      "Epoch 78/100\n",
      "1302/1302 [==============================] - 0s 201us/step - loss: -1999846.2121 - accuracy: 0.5184\n",
      "Epoch 79/100\n",
      "1302/1302 [==============================] - 0s 153us/step - loss: -2064137.8047 - accuracy: 0.5215\n",
      "Epoch 80/100\n",
      "1302/1302 [==============================] - 0s 158us/step - loss: -2129080.0181 - accuracy: 0.5161\n",
      "Epoch 81/100\n",
      "1302/1302 [==============================] - 0s 150us/step - loss: -2195124.9044 - accuracy: 0.5177\n",
      "Epoch 82/100\n",
      "1302/1302 [==============================] - 0s 152us/step - loss: -2262905.6639 - accuracy: 0.4931\n",
      "Epoch 83/100\n",
      "1302/1302 [==============================] - 0s 147us/step - loss: -2330940.6629 - accuracy: 0.5154\n",
      "Epoch 84/100\n",
      "1302/1302 [==============================] - 0s 153us/step - loss: -2401851.6127 - accuracy: 0.5230\n",
      "Epoch 85/100\n",
      "1302/1302 [==============================] - 0s 148us/step - loss: -2473321.5414 - accuracy: 0.5031\n",
      "Epoch 86/100\n",
      "1302/1302 [==============================] - 0s 148us/step - loss: -2545650.8895 - accuracy: 0.5207\n",
      "Epoch 87/100\n",
      "1302/1302 [==============================] - 0s 152us/step - loss: -2619713.8929 - accuracy: 0.5161\n",
      "Epoch 88/100\n",
      "1302/1302 [==============================] - 0s 147us/step - loss: -2696355.4543 - accuracy: 0.5038\n",
      "Epoch 89/100\n",
      "1302/1302 [==============================] - 0s 150us/step - loss: -2773055.7680 - accuracy: 0.5346\n",
      "Epoch 90/100\n",
      "1302/1302 [==============================] - 0s 148us/step - loss: -2851078.8187 - accuracy: 0.4977\n",
      "Epoch 91/100\n",
      "1302/1302 [==============================] - 0s 149us/step - loss: -2930552.6128 - accuracy: 0.5184\n",
      "Epoch 92/100\n",
      "1302/1302 [==============================] - 0s 149us/step - loss: -3013581.5856 - accuracy: 0.5146\n",
      "Epoch 93/100\n",
      "1302/1302 [==============================] - 0s 148us/step - loss: -3095848.5337 - accuracy: 0.5169\n",
      "Epoch 94/100\n",
      "1302/1302 [==============================] - 0s 149us/step - loss: -3179051.5802 - accuracy: 0.5146\n",
      "Epoch 95/100\n",
      "1302/1302 [==============================] - 0s 151us/step - loss: -3264297.6081 - accuracy: 0.5269\n",
      "Epoch 96/100\n",
      "1302/1302 [==============================] - 0s 152us/step - loss: -3352489.2736 - accuracy: 0.5015\n",
      "Epoch 97/100\n",
      "1302/1302 [==============================] - 0s 149us/step - loss: -3441131.7232 - accuracy: 0.5092\n",
      "Epoch 98/100\n",
      "1302/1302 [==============================] - 0s 148us/step - loss: -3530161.3398 - accuracy: 0.5115\n",
      "Epoch 99/100\n",
      "1302/1302 [==============================] - 0s 146us/step - loss: -3622829.8897 - accuracy: 0.5200\n",
      "Epoch 100/100\n",
      "1302/1302 [==============================] - 0s 150us/step - loss: -3715895.6184 - accuracy: 0.5154\n"
     ]
    }
   ],
   "source": [
    "precisao1,matriz1=neural_network(previsores,classe_1)\n",
    "precisao2,matriz2=neural_network(previsores,classe_2)\n",
    "precisao3,matriz3=neural_network(previsores,classe_3)"
   ]
  },
  {
   "cell_type": "code",
   "execution_count": 51,
   "metadata": {},
   "outputs": [],
   "source": [
    "array.append({'precisão':precisao1, 'label': \"new_stock\", \"model\":\"neural_network\"})\n",
    "array.append({'precisão':precisao2, 'label': \"stock_date_expiration\", \"model\":\"neural_network\"})\n",
    "array.append({'precisão':precisao3, 'label': \"sell_loss\", \"model\":\"neural_network\"})"
   ]
  },
  {
   "cell_type": "code",
   "execution_count": 52,
   "metadata": {},
   "outputs": [
    {
     "data": {
      "text/plain": [
       "[{'precisão': 0.9861751152073732,\n",
       "  'label': 'new_stock',\n",
       "  'model': 'random_florest'},\n",
       " {'precisão': 1.0,\n",
       "  'label': 'stock_date_expiration',\n",
       "  'model': 'random_florest'},\n",
       " {'precisão': 0.8709677419354839,\n",
       "  'label': 'sell_loss',\n",
       "  'model': 'random_florest'},\n",
       " {'precisão': 0.9861751152073732,\n",
       "  'label': 'new_stock',\n",
       "  'model': 'tree_decision'},\n",
       " {'precisão': 1.0, 'label': 'stock_date_expiration', 'model': 'tree_decision'},\n",
       " {'precisão': 0.8617511520737328,\n",
       "  'label': 'sell_loss',\n",
       "  'model': 'tree_decision'},\n",
       " {'precisão': 0.9861751152073732,\n",
       "  'label': 'new_stock',\n",
       "  'model': 'neural_network'},\n",
       " {'precisão': 1.0,\n",
       "  'label': 'stock_date_expiration',\n",
       "  'model': 'neural_network'},\n",
       " {'precisão': 0.5069124423963134,\n",
       "  'label': 'sell_loss',\n",
       "  'model': 'neural_network'}]"
      ]
     },
     "execution_count": 52,
     "metadata": {},
     "output_type": "execute_result"
    }
   ],
   "source": [
    "array"
   ]
  },
  {
   "cell_type": "markdown",
   "metadata": {},
   "source": [
    "# Resultado\n",
    "Apesar das limitações de tempo oferecidos pelo hackaton, simulamos um dataset com a nossa proposta. Obtivamos resultados bons como podem ser vistos. Mas poderiamos melhorar as saidas da IA. Exemplo o label **sell_loss** ser alterado ao invés de retorna uma quantidade exata das perdas no lote, retorna um parametro para o cliente exemplo: \"<10\" ou \"10> && <50\" ou \"50>\". Com essa alteração fornecemos três saidas possiveis para esse label. (O data desse projeto será melhorado no futuro)"
   ]
  }
 ],
 "metadata": {
  "kernelspec": {
   "display_name": "Python 3",
   "language": "python",
   "name": "python3"
  },
  "language_info": {
   "codemirror_mode": {
    "name": "ipython",
    "version": 3
   },
   "file_extension": ".py",
   "mimetype": "text/x-python",
   "name": "python",
   "nbconvert_exporter": "python",
   "pygments_lexer": "ipython3",
   "version": "3.7.6"
  }
 },
 "nbformat": 4,
 "nbformat_minor": 4
}
